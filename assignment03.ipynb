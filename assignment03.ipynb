{
 "cells": [
  {
   "cell_type": "markdown",
   "metadata": {},
   "source": [
    "# Name : In-Sang Song\n",
    "# Student ID : 2018120201"
   ]
  },
  {
   "cell_type": "markdown",
   "metadata": {},
   "source": [
    "# Link to github : [assignment03 github](https://github.com/johnjunior65/assignment03.git)"
   ]
  },
  {
   "cell_type": "markdown",
   "metadata": {},
   "source": [
    "# generatePointCluster\n",
    "### np.radom.rand()를 이용하여 랜덤 point를 만들고 x축,y축 이동을 시켜주어 흩뿌려줬습니다."
   ]
  },
  {
   "cell_type": "code",
   "execution_count": 410,
   "metadata": {
    "scrolled": true
   },
   "outputs": [
    {
     "data": {
      "image/png": "[encoded data removed]",
      "text/plain": [
       "<Figure size 432x288 with 1 Axes>"
      ]
     },
     "metadata": {
      "needs_background": "light"
     },
     "output_type": "display_data"
    }
   ],
   "source": [
    "import matplotlib.pyplot as plt\n",
    "import numpy as np\n",
    "\n",
    "N=10\n",
    "x1 = np.random.rand(N)\n",
    "y1 = np.random.rand(N)\n",
    "x2 = np.random.rand(N) - 1\n",
    "y2 = np.random.rand(N) - 1\n",
    "x3 = np.random.rand(N) -1\n",
    "y3 = np.random.rand(N)\n",
    "x4 = np.random.rand(N)\n",
    "y4 = np.random.rand(N) -1\n",
    "\n",
    "plt.scatter(x1, y1)\n",
    "plt.scatter(x2,y2)\n",
    "plt.scatter(x3, y3)\n",
    "plt.scatter(x4, y4)\n",
    "\n",
    "plt.show()"
   ]
  },
  {
   "cell_type": "markdown",
   "metadata": {},
   "source": [
    "### list를 사용하기 위해 합쳐주었습니다. "
   ]
  },
  {
   "cell_type": "code",
   "execution_count": 411,
   "metadata": {},
   "outputs": [],
   "source": [
    "x = []\n",
    "x.extend(x1)\n",
    "x.extend(x2)\n",
    "x.extend(x3)\n",
    "x.extend(x4)\n",
    "y = []\n",
    "y.extend(y1)\n",
    "y.extend(y2)\n",
    "y.extend(y3)\n",
    "y.extend(y4)"
   ]
  },
  {
   "cell_type": "markdown",
   "metadata": {},
   "source": [
    "### 위의 list를 이용하여 점을 40개 만들었습니다. "
   ]
  },
  {
   "cell_type": "code",
   "execution_count": 412,
   "metadata": {},
   "outputs": [],
   "source": [
    "class point :\n",
    "    def __init__(self, x, y) :\n",
    "        self.x = x\n",
    "        self.y = y\n",
    "        \n",
    "p0 = point(x[0], y[0])\n",
    "p1 = point(x[1], y[1])\n",
    "p2 = point(x[2], y[2])\n",
    "p3 = point(x[3], y[3])\n",
    "p4 = point(x[4], y[4])\n",
    "p5 = point(x[5], y[5])\n",
    "p6 = point(x[6], y[6])\n",
    "p7 = point(x[7], y[7])\n",
    "p8 = point(x[8], y[8])\n",
    "p9 = point(x[9], y[9])\n",
    "p10 = point(x[10], y[10])\n",
    "p11 = point(x[11], y[11])\n",
    "p12 = point(x[12], y[12])\n",
    "p13 = point(x[13], y[13])\n",
    "p14 = point(x[14], y[14])\n",
    "p15 = point(x[15], y[15])\n",
    "p16 = point(x[16], y[16])\n",
    "p17 = point(x[17], y[17])\n",
    "p18 = point(x[18], y[18])\n",
    "p19 = point(x[19], y[19])\n",
    "p20 = point(x[20], y[20])\n",
    "p21 = point(x[21], y[21])\n",
    "p22 = point(x[22], y[22])\n",
    "p23 = point(x[23], y[23])\n",
    "p24 = point(x[24], y[24])\n",
    "p25 = point(x[25], y[25])\n",
    "p26 = point(x[26], y[26])\n",
    "p27 = point(x[27], y[27])\n",
    "p28 = point(x[28], y[28])\n",
    "p29 = point(x[29], y[29])\n",
    "p30 = point(x[30], y[30])\n",
    "p31 = point(x[31], y[31])\n",
    "p32 = point(x[32], y[32])\n",
    "p33 = point(x[33], y[33])\n",
    "p34 = point(x[34], y[34])\n",
    "p35 = point(x[35], y[35])\n",
    "p36 = point(x[36], y[36])\n",
    "p37 = point(x[37], y[37])\n",
    "p38 = point(x[38], y[38])\n",
    "p39 = point(x[39], y[39])\n",
    "\n",
    "\n",
    "\n",
    "p = []\n",
    "p.append(p0)\n",
    "p.append(p1)\n",
    "p.append(p2)\n",
    "p.append(p3)\n",
    "p.append(p4)\n",
    "p.append(p5)\n",
    "p.append(p6)\n",
    "p.append(p7)\n",
    "p.append(p8)\n",
    "p.append(p9)\n",
    "p.append(p10)\n",
    "p.append(p11)\n",
    "p.append(p12)\n",
    "p.append(p13)\n",
    "p.append(p14)\n",
    "p.append(p15)\n",
    "p.append(p16)\n",
    "p.append(p17)\n",
    "p.append(p18)\n",
    "p.append(p19)\n",
    "p.append(p20)\n",
    "p.append(p21)\n",
    "p.append(p22)\n",
    "p.append(p23)\n",
    "p.append(p24)\n",
    "p.append(p25)\n",
    "p.append(p26)\n",
    "p.append(p27)\n",
    "p.append(p28)\n",
    "p.append(p29)\n",
    "p.append(p30)\n",
    "p.append(p31)\n",
    "p.append(p32)\n",
    "p.append(p33)\n",
    "p.append(p34)\n",
    "p.append(p35)\n",
    "p.append(p36)\n",
    "p.append(p37)\n",
    "p.append(p38)\n",
    "p.append(p39)"
   ]
  },
  {
   "cell_type": "markdown",
   "metadata": {},
   "source": [
    "### 3개의 클러스터 label을 만들었습니다."
   ]
  },
  {
   "cell_type": "code",
   "execution_count": 413,
   "metadata": {},
   "outputs": [],
   "source": [
    "c1 = []\n",
    "c2 = []\n",
    "c3 = []"
   ]
  },
  {
   "cell_type": "markdown",
   "metadata": {},
   "source": [
    "# computeDistance\n",
    "### 두점 사이의 거리를 계산하는 함수를 만들었습니다."
   ]
  },
  {
   "cell_type": "code",
   "execution_count": 414,
   "metadata": {},
   "outputs": [],
   "source": [
    "import math\n",
    "\n",
    "def dis(a, b) :\n",
    "    d = math.sqrt(((b.x - a.x) * ( b.x - a.x)) + ((b.y - a.y) * (b.y - a.y)))\n",
    "    return d"
   ]
  },
  {
   "cell_type": "markdown",
   "metadata": {},
   "source": [
    "#### 거리 계산 함수가 제대로 동작하는지 확인해봤습니다."
   ]
  },
  {
   "cell_type": "code",
   "execution_count": 415,
   "metadata": {},
   "outputs": [
    {
     "name": "stdout",
     "output_type": "stream",
     "text": [
      "1.4142135623730951\n"
     ]
    }
   ],
   "source": [
    "p50 = point(3, 4)\n",
    "p51 = point(4, 3)\n",
    "\n",
    "d = dis(p50, p51)\n",
    "\n",
    "print(d)"
   ]
  },
  {
   "cell_type": "markdown",
   "metadata": {},
   "source": [
    "# initialiseLabel"
   ]
  },
  {
   "cell_type": "markdown",
   "metadata": {},
   "source": [
    "### 점들에 label을 매겨 주었습니다."
   ]
  },
  {
   "cell_type": "code",
   "execution_count": 416,
   "metadata": {},
   "outputs": [],
   "source": [
    "c1.append(p0)\n",
    "c1.append(p1)\n",
    "c3.append(p2)\n",
    "c1.append(p3)\n",
    "c3.append(p4)\n",
    "c1.append(p5)\n",
    "c2.append(p6)\n",
    "c1.append(p7)\n",
    "c1.append(p8)\n",
    "c3.append(p9)\n",
    "c1.append(p10)\n",
    "c2.append(p11)\n",
    "c1.append(p12)\n",
    "c2.append(p13)\n",
    "\n",
    "c2.append(p14)\n",
    "c1.append(p15)\n",
    "c2.append(p16)\n",
    "c3.append(p17)\n",
    "c2.append(p18)\n",
    "c2.append(p19)\n",
    "c1.append(p20)\n",
    "c2.append(p21)\n",
    "c3.append(p22)\n",
    "c2.append(p23)\n",
    "c2.append(p24)\n",
    "c1.append(p25)\n",
    "\n",
    "c3.append(p26)\n",
    "c3.append(p27)\n",
    "c3.append(p28)\n",
    "c3.append(p29)\n",
    "c3.append(p30)\n",
    "c2.append(p31)\n",
    "c1.append(p32)\n",
    "c3.append(p33)\n",
    "c3.append(p34)\n",
    "c2.append(p35)\n",
    "c3.append(p36)\n",
    "c1.append(p37)\n",
    "c3.append(p38)\n",
    "c3.append(p39)"
   ]
  },
  {
   "cell_type": "markdown",
   "metadata": {},
   "source": [
    "### 제대로 label이 붙었는지 확인."
   ]
  },
  {
   "cell_type": "code",
   "execution_count": 417,
   "metadata": {},
   "outputs": [
    {
     "name": "stdout",
     "output_type": "stream",
     "text": [
      "0.5815411565498303 0.1729829339250979\n",
      "0.5815411565498303 0.1729829339250979\n",
      "13\n"
     ]
    }
   ],
   "source": [
    "print(p1.x , p1.y)\n",
    "\n",
    "print(c1[1].x, c1[1].y)\n",
    "\n",
    "n = len(c1)\n",
    "\n",
    "print (n)"
   ]
  },
  {
   "cell_type": "markdown",
   "metadata": {},
   "source": [
    "# computeCentroid\n",
    "## 라벨값 c가 들어왔을때 해당 라벨의 클러스트 c의 중심값을 구하는 함수를 만들었습니다."
   ]
  },
  {
   "cell_type": "code",
   "execution_count": 418,
   "metadata": {},
   "outputs": [],
   "source": [
    "def cen(c) :\n",
    "    n = len(c)\n",
    "    x = 0\n",
    "    y = 0\n",
    "\n",
    "    for i in range(0, n) :\n",
    "        x += c[i].x\n",
    "        y += c[i].y\n",
    "        \n",
    "    cen.x = x/n\n",
    "    cen.y = y/n\n",
    "    return cen"
   ]
  },
  {
   "cell_type": "markdown",
   "metadata": {},
   "source": [
    "### 처음에 제가 임의로 붙여준 클러스터 c1의 중심점이 제대로 계산되는지 확인해봤습니다."
   ]
  },
  {
   "cell_type": "code",
   "execution_count": 419,
   "metadata": {},
   "outputs": [
    {
     "name": "stdout",
     "output_type": "stream",
     "text": [
      "0.8791351716922491 0.8691731583957489\n",
      "0.5815411565498303 0.1729829339250979\n",
      "0.4717415849113935 0.07760450673488994\n",
      "0.36791381422339386 0.6895515432145222\n",
      "0.15634400352610744 0.4150929853866092\n",
      "0.9545766298223274 0.8456270904487381\n",
      "-0.07215012418000288 -0.3526720972844132\n",
      "13 12 15\n",
      "0.19384778662564553 0.17627552420570664\n"
     ]
    }
   ],
   "source": [
    "cen(c1)\n",
    "\n",
    "print(c1[0].x, c1[0].y)\n",
    "print(c1[1].x, c1[1].y)\n",
    "print(c1[2].x, c1[2].y)\n",
    "print(c1[3].x, c1[3].y)\n",
    "print(c1[4].x, c1[4].y)\n",
    "print(c1[5].x, c1[5].y)\n",
    "print(c1[6].x, c1[6].y)\n",
    "\n",
    "print(len(c1), len(c2), len(c3))\n",
    "print(cen(c1).x, cen(c1).y)"
   ]
  },
  {
   "cell_type": "markdown",
   "metadata": {},
   "source": [
    "# aasignLabel\n",
    "## 20개의 점 중 하나인 p와 각 클러스터의 중심점 사이의 거리를 계산하여 가까운 클러스트의 라벨을 붙여주는 함수를 만들었습니다.\n",
    "### 이 label함수에서 그대로 c1, c2, c3에 넣으면 n(클러스터에 속한 점의 갯수)의 값이 계속 바뀌어 오류가 생기기 때문에 c1b, c2b, c3b라는 버퍼를 사용하였습니다."
   ]
  },
  {
   "cell_type": "code",
   "execution_count": 420,
   "metadata": {},
   "outputs": [],
   "source": [
    "def label() :\n",
    "                 \n",
    "    for j in range(0,40) :\n",
    "                \n",
    "        d1 = dis(cen(c1), p[j])\n",
    "        d2 = dis(cen(c2), p[j])\n",
    "        d3 = dis(cen(c3), p[j])\n",
    "        \n",
    "        if ((d1 < d2) and (d1 < d3)) :\n",
    "            c1b.append(p[j])\n",
    "            \n",
    "        elif ((d2 < d1) and (d2 < d3)) :\n",
    "            c2b.append(p[j])\n",
    "            \n",
    "        elif ((d3 < d1) and (d3 < d2)) :\n",
    "            c3b.append(p[j])        "
   ]
  },
  {
   "cell_type": "markdown",
   "metadata": {},
   "source": [
    "### 버퍼에 제대로 assignLabel 되었는지 확인. "
   ]
  },
  {
   "cell_type": "code",
   "execution_count": 421,
   "metadata": {},
   "outputs": [
    {
     "name": "stdout",
     "output_type": "stream",
     "text": [
      "17 14 9\n",
      "13 12 15\n"
     ]
    }
   ],
   "source": [
    "c1b.clear()\n",
    "c2b.clear()\n",
    "c3b.clear()\n",
    "\n",
    "label()\n",
    "\n",
    "print(len(c1b), len(c2b), len(c3b))\n",
    "print(len(c1), len(c2), len(c3))"
   ]
  },
  {
   "cell_type": "markdown",
   "metadata": {},
   "source": [
    "### 버퍼에 저장해두었던 점들의 정보를 기존의 클러스터에 넣어줍니다."
   ]
  },
  {
   "cell_type": "code",
   "execution_count": 422,
   "metadata": {},
   "outputs": [],
   "source": [
    "def change() :\n",
    "    \n",
    "    c1.clear()\n",
    "    c2.clear()\n",
    "    c3.clear()\n",
    "           \n",
    "    c1.extend(c1b)\n",
    "    c2.extend(c2b)\n",
    "    c3.extend(c3b)\n",
    "    \n",
    "    c1b.clear()\n",
    "    c2b.clear()\n",
    "    c3b.clear()"
   ]
  },
  {
   "cell_type": "markdown",
   "metadata": {},
   "source": [
    "### 클러스터별로 색을 달리하여 클러스트의 중앙점(큰점)과 클러스트에 속한 다른 점들(작은점들)을 그래프에 나타냈습니다.\n",
    "\n",
    "#### 아래의 그림은 아직 새로 assignlabel 과정을 거치지 않은 상태로, 비교를 위해 두었습니다."
   ]
  },
  {
   "cell_type": "code",
   "execution_count": 423,
   "metadata": {},
   "outputs": [
    {
     "data": {
      "image/png": "[encoded data removed]",
      "text/plain": [
       "<Figure size 432x288 with 1 Axes>"
      ]
     },
     "metadata": {
      "needs_background": "light"
     },
     "output_type": "display_data"
    }
   ],
   "source": [
    "def plot(c) :\n",
    "    if (c == c1) :\n",
    "        for i in range(0,len(c1)) :\n",
    "            plt.scatter(c1[i].x, c1[i].y, c = \"r\")\n",
    "    elif (c == c2) :\n",
    "        for i in range(0,len(c2)) :\n",
    "            plt.scatter(c2[i].x, c2[i].y, c = \"g\")\n",
    "    elif (c == c3) :\n",
    "        for i in range(0,len(c3)) :\n",
    "            plt.scatter(c3[i].x, c3[i].y, c = \"b\")\n",
    "\n",
    "plt.scatter(cen(c1).x, cen(c1).y, s = 100, c = \"r\")\n",
    "plt.scatter(cen(c2).x, cen(c2).y, s = 100, c = \"g\")\n",
    "plt.scatter(cen(c3).x, cen(c3).y, s = 100, c = \"b\")\n",
    "plot(c1)\n",
    "plot(c2)\n",
    "plot(c3)"
   ]
  },
  {
   "cell_type": "markdown",
   "metadata": {},
   "source": [
    "# 점들에 새로 assignLabel해주고, 다시 중앙점을 구한 그래프입니다."
   ]
  },
  {
   "cell_type": "code",
   "execution_count": 424,
   "metadata": {},
   "outputs": [
    {
     "data": {
      "text/plain": [
       "<matplotlib.collections.PathCollection at 0x90e6a20>"
      ]
     },
     "execution_count": 424,
     "metadata": {},
     "output_type": "execute_result"
    },
    {
     "data": {
      "image/png": "[encoded data removed]",
      "text/plain": [
       "<Figure size 432x288 with 1 Axes>"
      ]
     },
     "metadata": {
      "needs_background": "light"
     },
     "output_type": "display_data"
    }
   ],
   "source": [
    "change()\n",
    "\n",
    "plot(c1)\n",
    "plot(c2)\n",
    "plot(c3)\n",
    "plt.scatter(cen(c1).x, cen(c1).y, s = 100, c = \"r\")\n",
    "plt.scatter(cen(c2).x, cen(c2).y, s = 100, c = \"g\")\n",
    "plt.scatter(cen(c3).x, cen(c3).y, s = 100, c = \"b\")\n"
   ]
  },
  {
   "cell_type": "markdown",
   "metadata": {},
   "source": [
    "# 한번더 k-clustering을 해주었습니다."
   ]
  },
  {
   "cell_type": "code",
   "execution_count": 425,
   "metadata": {
    "scrolled": true
   },
   "outputs": [
    {
     "name": "stdout",
     "output_type": "stream",
     "text": [
      "0.6343674106824583 0.021596878750505304\n",
      "-0.5162222036037643 -0.3897310772194892\n",
      "-0.3936553961270408 0.5851686113534351\n"
     ]
    },
    {
     "data": {
      "image/png": "[encoded data removed]",
      "text/plain": [
       "<Figure size 432x288 with 1 Axes>"
      ]
     },
     "metadata": {
      "needs_background": "light"
     },
     "output_type": "display_data"
    }
   ],
   "source": [
    "label()\n",
    "change()\n",
    "\n",
    "plt.scatter(cen(c1).x, cen(c1).y, s = 100, c = \"r\")\n",
    "plt.scatter(cen(c2).x, cen(c2).y, s = 100, c = \"g\")\n",
    "plt.scatter(cen(c3).x, cen(c3).y, s = 100, c = \"b\")\n",
    "plot(c1)\n",
    "plot(c2)\n",
    "plot(c3)\n",
    "\n",
    "print(cen(c1).x, cen(c1).y)\n",
    "print(cen(c2).x, cen(c2).y)\n",
    "print(cen(c3).x, cen(c3).y)"
   ]
  },
  {
   "cell_type": "markdown",
   "metadata": {},
   "source": [
    "# Final label, Final centroid\n",
    "\n",
    "## k-clustering을 한번 더 해주었지만 중앙값이 변하지 않았습니다."
   ]
  },
  {
   "cell_type": "code",
   "execution_count": 426,
   "metadata": {},
   "outputs": [
    {
     "name": "stdout",
     "output_type": "stream",
     "text": [
      "0.6343674106824583 0.021596878750505304\n",
      "-0.5162222036037643 -0.3897310772194892\n",
      "-0.3936553961270408 0.5851686113534351\n"
     ]
    },
    {
     "data": {
      "image/png": "[encoded data removed]",
      "text/plain": [
       "<Figure size 432x288 with 1 Axes>"
      ]
     },
     "metadata": {
      "needs_background": "light"
     },
     "output_type": "display_data"
    }
   ],
   "source": [
    "label()\n",
    "change()\n",
    "\n",
    "plt.scatter(cen(c1).x, cen(c1).y, s = 100, c = \"r\")\n",
    "plt.scatter(cen(c2).x, cen(c2).y, s = 100, c = \"g\")\n",
    "plt.scatter(cen(c3).x, cen(c3).y, s = 100, c = \"b\")\n",
    "plot(c1)\n",
    "plot(c2)\n",
    "plot(c3)\n",
    "\n",
    "\n",
    "print(cen(c1).x, cen(c1).y)\n",
    "print(cen(c2).x, cen(c2).y)\n",
    "print(cen(c3).x, cen(c3).y)"
   ]
  },
  {
   "cell_type": "code",
   "execution_count": null,
   "metadata": {},
   "outputs": [],
   "source": []
  }
 ],
 "metadata": {
  "kernelspec": {
   "display_name": "Python 3",
   "language": "python",
   "name": "python3"
  },
  "language_info": {
   "codemirror_mode": {
    "name": "ipython",
    "version": 3
   },
   "file_extension": ".py",
   "mimetype": "text/x-python",
   "name": "python",
   "nbconvert_exporter": "python",
   "pygments_lexer": "ipython3",
   "version": "3.7.0"
  }
 },
 "nbformat": 4,
 "nbformat_minor": 2
}
